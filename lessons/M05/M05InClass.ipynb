{
 "cells": [
  {
   "cell_type": "code",
   "execution_count": 5,
   "id": "a2e37465-4679-4d6b-9421-f35d6ffc7dfa",
   "metadata": {
    "tags": []
   },
   "outputs": [],
   "source": [
    "import time\n",
    "import numpy as np"
   ]
  },
  {
   "cell_type": "code",
   "execution_count": 36,
   "id": "ea00c295-16f3-4df6-b144-f6d532e353a7",
   "metadata": {
    "tags": []
   },
   "outputs": [
    {
     "name": "stdout",
     "output_type": "stream",
     "text": [
      "0.01295161247253418\n"
     ]
    }
   ],
   "source": [
    "\n",
    "t0 = time.time()\n",
    "my_list=[]\n",
    "\n",
    "for num in range(100001):\n",
    "    if num % 2 == 1:\n",
    "        num *= -1\n",
    "    my_list.append(num)\n",
    "t1 = time.time()\n",
    "delta_t = t1 - t0\n",
    "print(delta_t)"
   ]
  },
  {
   "cell_type": "code",
   "execution_count": 37,
   "id": "c7d317f1-ed6e-4fee-a6a8-ee62c0fdf726",
   "metadata": {
    "tags": []
   },
   "outputs": [
    {
     "name": "stdout",
     "output_type": "stream",
     "text": [
      "runtime:  0.007107734680175781\n"
     ]
    }
   ],
   "source": [
    "my_time = time.time()\n",
    "value = [i * -1 if i % 2 == 1 else i for i in range(1,100001)]\n",
    "print('runtime: ', time.time() - my_time)"
   ]
  },
  {
   "cell_type": "code",
   "execution_count": 8,
   "id": "514f7c56-d6cf-4214-99e3-ab8e46daea0a",
   "metadata": {
    "tags": []
   },
   "outputs": [
    {
     "name": "stdout",
     "output_type": "stream",
     "text": [
      "1,2,2,6,5,5,4,4,2,4\n"
     ]
    }
   ],
   "source": [
    "my_list = np.random.randint(1,7,10)\n",
    "print(','.join(my_list.astype(str)))"
   ]
  },
  {
   "cell_type": "code",
   "execution_count": 13,
   "id": "100e017f-4b7b-4fe1-897c-6ceb2637f012",
   "metadata": {
    "tags": []
   },
   "outputs": [
    {
     "data": {
      "text/plain": [
       "int"
      ]
     },
     "execution_count": 13,
     "metadata": {},
     "output_type": "execute_result"
    }
   ],
   "source": [
    "arr1 = np.random.randint(1)\n",
    "type(arr1)"
   ]
  },
  {
   "cell_type": "code",
   "execution_count": 15,
   "id": "2c8d123e-05b8-4420-9eca-48af7bfb93ca",
   "metadata": {
    "tags": []
   },
   "outputs": [
    {
     "data": {
      "text/plain": [
       "numpy.ndarray"
      ]
     },
     "execution_count": 15,
     "metadata": {},
     "output_type": "execute_result"
    }
   ],
   "source": [
    "r2 = np.random.randint(1,21,5)\n",
    "type(r2)"
   ]
  },
  {
   "cell_type": "code",
   "execution_count": 16,
   "id": "e163d377-b272-48f7-8f48-e46b33738deb",
   "metadata": {
    "tags": []
   },
   "outputs": [
    {
     "data": {
      "text/plain": [
       "(array([1., 2., 0., 0., 0., 0., 0., 1., 0., 1.]),\n",
       " array([ 1. ,  2.9,  4.8,  6.7,  8.6, 10.5, 12.4, 14.3, 16.2, 18.1, 20. ]),\n",
       " <BarContainer object of 10 artists>)"
      ]
     },
     "execution_count": 16,
     "metadata": {},
     "output_type": "execute_result"
    },
    {
     "data": {
      "image/png": "[encoded data removed]",
      "text/plain": [
       "<Figure size 640x480 with 1 Axes>"
      ]
     },
     "metadata": {},
     "output_type": "display_data"
    }
   ],
   "source": [
    "from matplotlib.pyplot import hist\n",
    "hist(r2)"
   ]
  },
  {
   "cell_type": "code",
   "execution_count": 17,
   "id": "914e445e-527a-44d5-b0d0-639fd4db75f8",
   "metadata": {
    "tags": []
   },
   "outputs": [
    {
     "data": {
      "image/png": "[encoded data removed]",
      "text/plain": [
       "<Figure size 640x480 with 1 Axes>"
      ]
     },
     "metadata": {},
     "output_type": "display_data"
    }
   ],
   "source": [
    "# Without code output\n",
    "hist(r2);"
   ]
  },
  {
   "cell_type": "code",
   "execution_count": 20,
   "id": "61740478-0662-4a71-9b30-6bc0b1335f4a",
   "metadata": {
    "tags": []
   },
   "outputs": [
    {
     "data": {
      "text/plain": [
       "array([[ 3.05962453,  2.18296917,  4.74166884],\n",
       "       [-1.38524834,  1.27517804, -0.84599184]])"
      ]
     },
     "execution_count": 20,
     "metadata": {},
     "output_type": "execute_result"
    }
   ],
   "source": [
    "my_matrix = np.random.randn(2,3)\n",
    "my_matrix"
   ]
  },
  {
   "cell_type": "code",
   "execution_count": 21,
   "id": "01eca314-b999-4d05-a2a3-f8c3115294be",
   "metadata": {
    "tags": []
   },
   "outputs": [
    {
     "data": {
      "text/plain": [
       "array([[ 3.05962453,  2.18296917,  4.74166884],\n",
       "       [-1.38524834,  1.27517804, -0.84599184]])"
      ]
     },
     "execution_count": 21,
     "metadata": {},
     "output_type": "execute_result"
    }
   ],
   "source": [
    "my_matrix * 2"
   ]
  },
  {
   "cell_type": "code",
   "execution_count": 22,
   "id": "a1c8788c-d955-4758-8b49-bbd42354da96",
   "metadata": {
    "tags": []
   },
   "outputs": [
    {
     "data": {
      "text/plain": [
       "array([[ 3.05962453,  2.18296917,  4.74166884],\n",
       "       [-1.38524834,  1.27517804, -0.84599184]])"
      ]
     },
     "execution_count": 22,
     "metadata": {},
     "output_type": "execute_result"
    }
   ],
   "source": [
    "my_matrix + my_matrix"
   ]
  },
  {
   "cell_type": "code",
   "execution_count": 23,
   "id": "3d9edb81-ff14-493c-a0c4-e7a2ef31df6d",
   "metadata": {
    "tags": []
   },
   "outputs": [
    {
     "data": {
      "text/plain": [
       "array([[ 0.65367498,  0.91618335,  0.42179243],\n",
       "       [-1.44378444,  1.56840843, -2.364089  ]])"
      ]
     },
     "execution_count": 23,
     "metadata": {},
     "output_type": "execute_result"
    }
   ],
   "source": [
    "1 / my_matrix"
   ]
  },
  {
   "cell_type": "code",
   "execution_count": 40,
   "id": "4da5e401-6f41-491f-a340-dd8ce7196c75",
   "metadata": {
    "tags": []
   },
   "outputs": [
    {
     "data": {
      "text/plain": [
       "array([[0., 0., 0., 0.],\n",
       "       [0., 0., 0., 0.]])"
      ]
     },
     "execution_count": 40,
     "metadata": {},
     "output_type": "execute_result"
    }
   ],
   "source": [
    "y1 = np.zeros((2, 4))\n",
    "y1"
   ]
  },
  {
   "cell_type": "code",
   "execution_count": 42,
   "id": "1a367636-a0e4-4d61-a36c-f7e0e63851e5",
   "metadata": {
    "tags": []
   },
   "outputs": [
    {
     "data": {
      "text/plain": [
       "array([[1., 1., 1., 1.],\n",
       "       [1., 1., 1., 1.]])"
      ]
     },
     "execution_count": 42,
     "metadata": {},
     "output_type": "execute_result"
    }
   ],
   "source": [
    "y2 = np.ones((2, 4)) \n",
    "y2"
   ]
  },
  {
   "cell_type": "code",
   "execution_count": 28,
   "id": "84bec310-14ef-41f9-8d6c-cce7f0a96944",
   "metadata": {
    "tags": []
   },
   "outputs": [
    {
     "data": {
      "text/plain": [
       "array([[1., 0., 0., 0.],\n",
       "       [0., 1., 0., 0.],\n",
       "       [0., 0., 1., 0.],\n",
       "       [0., 0., 0., 1.]])"
      ]
     },
     "execution_count": 28,
     "metadata": {},
     "output_type": "execute_result"
    }
   ],
   "source": [
    "identity_matrix = np.identity(4)\n",
    "identity_matrix"
   ]
  },
  {
   "cell_type": "code",
   "execution_count": 29,
   "id": "707759fa-dafe-490b-b728-c07dd0496b14",
   "metadata": {
    "tags": []
   },
   "outputs": [
    {
     "data": {
      "text/plain": [
       "array([6, 7, 8, 0, 1])"
      ]
     },
     "execution_count": 29,
     "metadata": {},
     "output_type": "execute_result"
    }
   ],
   "source": [
    "arr1 = np.random.randn(5)\n",
    "arr1"
   ]
  },
  {
   "cell_type": "code",
   "execution_count": 30,
   "id": "38cf09fa-15c1-4c2e-a564-072ad053fc83",
   "metadata": {
    "tags": []
   },
   "outputs": [
    {
     "data": {
      "text/plain": [
       "array([7, 8, 0])"
      ]
     },
     "execution_count": 30,
     "metadata": {},
     "output_type": "execute_result"
    }
   ],
   "source": [
    "arr1[1:4]"
   ]
  },
  {
   "cell_type": "code",
   "execution_count": 31,
   "id": "ad05b205-db1e-4a84-9533-38a544cfcc73",
   "metadata": {
    "tags": []
   },
   "outputs": [
    {
     "data": {
      "text/plain": [
       "array([7, 8, 0])"
      ]
     },
     "execution_count": 31,
     "metadata": {},
     "output_type": "execute_result"
    }
   ],
   "source": [
    "arr1[1:-1]"
   ]
  },
  {
   "cell_type": "code",
   "execution_count": 32,
   "id": "ad7eef2e-a9fe-43dc-b51c-13dce58aa4fa",
   "metadata": {
    "tags": []
   },
   "outputs": [
    {
     "data": {
      "text/plain": [
       "array([[-0.5952756 ,  0.57348509, -2.09125348],\n",
       "       [-0.79329514, -0.97317166,  0.16561578],\n",
       "       [-0.84530908, -0.99045293, -1.53946237]])"
      ]
     },
     "execution_count": 32,
     "metadata": {},
     "output_type": "execute_result"
    }
   ],
   "source": [
    "twod = np.random.randn(3 ,3)\n",
    "twod"
   ]
  },
  {
   "cell_type": "code",
   "execution_count": 33,
   "id": "8451ba96-6dec-496b-bff4-36741f0ce598",
   "metadata": {
    "tags": []
   },
   "outputs": [
    {
     "data": {
      "text/plain": [
       "array([[-0.79329514, -0.97317166],\n",
       "       [-0.84530908, -0.99045293]])"
      ]
     },
     "execution_count": 33,
     "metadata": {},
     "output_type": "execute_result"
    }
   ],
   "source": [
    "twod[1:,:2]"
   ]
  },
  {
   "cell_type": "code",
   "execution_count": null,
   "id": "7faa43de-eeab-42ef-878c-c554a9854814",
   "metadata": {},
   "outputs": [],
   "source": []
  }
 ],
 "metadata": {
  "kernelspec": {
   "display_name": "Python 3 (ipykernel)",
   "language": "python",
   "name": "python3"
  },
  "language_info": {
   "codemirror_mode": {
    "name": "ipython",
    "version": 3
   },
   "file_extension": ".py",
   "mimetype": "text/x-python",
   "name": "python",
   "nbconvert_exporter": "python",
   "pygments_lexer": "ipython3",
   "version": "3.11.4"
  }
 },
 "nbformat": 4,
 "nbformat_minor": 5
}
