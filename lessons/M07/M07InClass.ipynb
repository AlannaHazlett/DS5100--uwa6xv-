{
 "cells": [
  {
   "cell_type": "code",
   "execution_count": 11,
   "id": "ae5b2bed-4f50-4078-a8c0-9f9dfe5db321",
   "metadata": {
    "tags": []
   },
   "outputs": [],
   "source": [
    "class Activity():\n",
    "    \"\"\"In class activity problem 1\"\"\"\n",
    "    att1 = \"foo\"\n",
    "    def __init__(self,att2):\n",
    "        self.att2 = att2\n",
    "    def add(self):\n",
    "        self.msg = self.att1 + ' ' + self.att2\n",
    "        print(self.msg)"
   ]
  },
  {
   "cell_type": "code",
   "execution_count": 12,
   "id": "756c756d-9299-4dad-9af8-5898c533234a",
   "metadata": {
    "tags": []
   },
   "outputs": [
    {
     "data": {
      "text/plain": [
       "('foo', 'This is a string')"
      ]
     },
     "execution_count": 12,
     "metadata": {},
     "output_type": "execute_result"
    }
   ],
   "source": [
    "ob_1 = Activity(\"This is a string\")\n",
    "ob_1.att1, ob_1.att2"
   ]
  },
  {
   "cell_type": "code",
   "execution_count": 13,
   "id": "6757e277-5bcd-448d-a1f1-22d5ed8f06fd",
   "metadata": {
    "tags": []
   },
   "outputs": [
    {
     "name": "stdout",
     "output_type": "stream",
     "text": [
      "foo This is a string\n"
     ]
    }
   ],
   "source": [
    "ob_1.add()"
   ]
  },
  {
   "cell_type": "code",
   "execution_count": 22,
   "id": "f638f4db-8458-4281-a036-120d4f5c4f0c",
   "metadata": {
    "tags": []
   },
   "outputs": [],
   "source": [
    "import pandas as pd\n",
    "\n",
    "class Student:\n",
    "    def __init__(self, student_name, student_id):\n",
    "        self.name = student_name\n",
    "        self.id = student_id\n",
    "        self.grades = pd.Series(dtype=float)\n",
    "    def add_grade(self, assignment, grade):\n",
    "        self.grades.loc[assignment] = grade\n",
    "    def show_grades(self):\n",
    "        self.grades.plot.bar(title=f\"Grades for {self.name}{self.id}\")"
   ]
  },
  {
   "cell_type": "code",
   "execution_count": 20,
   "id": "e511c33f-4255-40f6-bdef-7cbe7bcadc73",
   "metadata": {
    "tags": []
   },
   "outputs": [],
   "source": [
    "student1 =  Student(\"Alanna Hazlett\", \"uwa6xv\")"
   ]
  },
  {
   "cell_type": "code",
   "execution_count": 23,
   "id": "db28e0ae-8243-4868-a260-2274d9c22917",
   "metadata": {
    "tags": []
   },
   "outputs": [],
   "source": [
    "student1.add_grade(\"HW01\",100)\n",
    "student1.add_grade(\"HW02\", 97)\n",
    "student1.add_grade(\"HW03\", 98)\n",
    "student1.add_grade(\"HW04\", 89)"
   ]
  },
  {
   "cell_type": "code",
   "execution_count": 24,
   "id": "ebab7209-53e8-4df1-9280-93a195ed57ca",
   "metadata": {
    "tags": []
   },
   "outputs": [
    {
     "data": {
      "image/png": "[encoded data removed]",
      "text/plain": [
       "<Figure size 640x480 with 1 Axes>"
      ]
     },
     "metadata": {},
     "output_type": "display_data"
    }
   ],
   "source": [
    "student1.show_grades()"
   ]
  },
  {
   "cell_type": "code",
   "execution_count": 40,
   "id": "7b651a11-1b0b-4448-8373-836bf9b8db41",
   "metadata": {
    "tags": []
   },
   "outputs": [],
   "source": [
    "class V3():\n",
    "    def __init__(self, instance_size, num_vcpus, memory, disk_space):\n",
    "        self.instance_size = instance_size\n",
    "        self.num_vcpus = num_vcpus\n",
    "        self.memory = memory\n",
    "        self.disk_space = disk_space\n",
    "    def add_disk_space(self, amount_to_add):\n",
    "        self.disk_space += amount_to_add\n",
    "    def has_enough_disk_space(self, amount_req):\n",
    "        if self.disk_space >= amount_req:\n",
    "            print(\"There is enough disk space\")\n",
    "            return True\n",
    "        else:\n",
    "            print(\"There is not enough disk space\")\n",
    "            return False"
   ]
  },
  {
   "cell_type": "code",
   "execution_count": 41,
   "id": "d915ec97-7a34-46e4-8051-551051ec6f98",
   "metadata": {
    "tags": []
   },
   "outputs": [],
   "source": [
    "ob_2 = V3('large', 32, 256, 1.)"
   ]
  },
  {
   "cell_type": "code",
   "execution_count": 42,
   "id": "04c0ad8c-bfa1-401c-b5f4-ce37ac857a64",
   "metadata": {
    "tags": []
   },
   "outputs": [],
   "source": [
    "ob_2.add_disk_space(2)"
   ]
  },
  {
   "cell_type": "code",
   "execution_count": 45,
   "id": "e206e498-2e79-4577-8176-ae12bffb22ce",
   "metadata": {
    "tags": []
   },
   "outputs": [
    {
     "data": {
      "text/plain": [
       "3.0"
      ]
     },
     "execution_count": 45,
     "metadata": {},
     "output_type": "execute_result"
    }
   ],
   "source": [
    "ob_2.disk_space"
   ]
  },
  {
   "cell_type": "code",
   "execution_count": 46,
   "id": "6c88ee74-c621-4515-b2a6-2f50de2f3f11",
   "metadata": {
    "tags": []
   },
   "outputs": [
    {
     "name": "stdout",
     "output_type": "stream",
     "text": [
      "There is not enough disk space\n"
     ]
    },
    {
     "data": {
      "text/plain": [
       "False"
      ]
     },
     "execution_count": 46,
     "metadata": {},
     "output_type": "execute_result"
    }
   ],
   "source": [
    "ob_2.has_enough_disk_space(10)"
   ]
  },
  {
   "cell_type": "code",
   "execution_count": null,
   "id": "9180ca4b-854b-47b6-bec4-697dc3cfcf43",
   "metadata": {},
   "outputs": [],
   "source": []
  }
 ],
 "metadata": {
  "kernelspec": {
   "display_name": "Python 3 (ipykernel)",
   "language": "python",
   "name": "python3"
  },
  "language_info": {
   "codemirror_mode": {
    "name": "ipython",
    "version": 3
   },
   "file_extension": ".py",
   "mimetype": "text/x-python",
   "name": "python",
   "nbconvert_exporter": "python",
   "pygments_lexer": "ipython3",
   "version": "3.11.4"
  }
 },
 "nbformat": 4,
 "nbformat_minor": 5
}
