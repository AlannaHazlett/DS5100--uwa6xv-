{
 "cells": [
  {
   "cell_type": "code",
   "execution_count": 1,
   "id": "d02e0552-569e-4d93-aadd-12ad5b2555b9",
   "metadata": {
    "tags": []
   },
   "outputs": [
    {
     "name": "stdout",
     "output_type": "stream",
     "text": [
      "Welcome to my module!\n"
     ]
    }
   ],
   "source": [
    "import my_package.my_module"
   ]
  },
  {
   "cell_type": "code",
   "execution_count": 2,
   "id": "bdd73c92-f754-46a0-84fc-ee45b4e4d94d",
   "metadata": {},
   "outputs": [
    {
     "name": "stdout",
     "output_type": "stream",
     "text": [
      "This is my module within my practice project.\n"
     ]
    }
   ],
   "source": [
    "my_package.my_module.explain()"
   ]
  },
  {
   "cell_type": "code",
   "execution_count": 2,
   "id": "c32d6428-97a7-41f1-b8f7-d6858665b8c5",
   "metadata": {
    "tags": []
   },
   "outputs": [
    {
     "name": "stdout",
     "output_type": "stream",
     "text": [
      "Welcome to my module!\n"
     ]
    }
   ],
   "source": [
    "import my_package.my_module as pm"
   ]
  },
  {
   "cell_type": "code",
   "execution_count": 3,
   "id": "44264b0d-219d-4154-92e3-3837f0acbdbf",
   "metadata": {
    "tags": []
   },
   "outputs": [
    {
     "name": "stdout",
     "output_type": "stream",
     "text": [
      "This is my module within my practice project.\n"
     ]
    }
   ],
   "source": [
    "pm.explain()"
   ]
  },
  {
   "cell_type": "code",
   "execution_count": 1,
   "id": "c3650ea1-62d1-4fd0-9aab-e70e5e8397cd",
   "metadata": {
    "tags": []
   },
   "outputs": [
    {
     "ename": "NameError",
     "evalue": "name 'my_module' is not defined",
     "output_type": "error",
     "traceback": [
      "\u001b[0;31m---------------------------------------------------------------------------\u001b[0m",
      "\u001b[0;31mNameError\u001b[0m                                 Traceback (most recent call last)",
      "Cell \u001b[0;32mIn[1], line 1\u001b[0m\n\u001b[0;32m----> 1\u001b[0m \u001b[43mmy_module\u001b[49m\u001b[38;5;241m.\u001b[39mexplain()\n",
      "\u001b[0;31mNameError\u001b[0m: name 'my_module' is not defined"
     ]
    }
   ],
   "source": [
    "my_module.explain()"
   ]
  },
  {
   "cell_type": "code",
   "execution_count": 4,
   "id": "8bdfaae9-eff7-4ad8-8eb1-cd55d97d41c9",
   "metadata": {
    "tags": []
   },
   "outputs": [],
   "source": [
    "# Running this is hoping that there is not another function already named explain()\n",
    "from my_package.my_module import explain"
   ]
  },
  {
   "cell_type": "code",
   "execution_count": 5,
   "id": "6c8dc1f0-0731-4c53-ba63-440377f1541f",
   "metadata": {
    "tags": []
   },
   "outputs": [
    {
     "name": "stdout",
     "output_type": "stream",
     "text": [
      "This is my module within my practice project.\n"
     ]
    }
   ],
   "source": [
    "explain()"
   ]
  },
  {
   "cell_type": "code",
   "execution_count": 6,
   "id": "4b4fa901-46ce-4f9b-b673-745c92f6730c",
   "metadata": {
    "tags": []
   },
   "outputs": [
    {
     "name": "stdout",
     "output_type": "stream",
     "text": [
      "/sfs/qumulo/qhome/uwa6xv/Documents/MSDS/DS5100/DS5100--uwa6xv-/lessons/M09\n",
      "/apps/software/standard/core/jupyterlab/3.6.3-py3.11/lib/python311.zip\n",
      "/apps/software/standard/core/jupyterlab/3.6.3-py3.11/lib/python3.11\n",
      "/apps/software/standard/core/jupyterlab/3.6.3-py3.11/lib/python3.11/lib-dynload\n",
      "\n",
      "/home/uwa6xv/.local/lib/python3.11/site-packages\n",
      "/apps/software/standard/core/jupyterlab/3.6.3-py3.11/lib/python3.11/site-packages\n"
     ]
    }
   ],
   "source": [
    "import sys\n",
    "for p in sys.path:\n",
    "    print (p)"
   ]
  },
  {
   "cell_type": "code",
   "execution_count": 7,
   "id": "606633d4-3d15-4694-8e95-983e95d26945",
   "metadata": {
    "tags": []
   },
   "outputs": [
    {
     "data": {
      "text/plain": [
       "'/home/uwa6xv/.local/lib/python3.11/site-packages/my_package/my_module.py'"
      ]
     },
     "execution_count": 7,
     "metadata": {},
     "output_type": "execute_result"
    }
   ],
   "source": [
    "my_package.my_module.__file__"
   ]
  },
  {
   "cell_type": "code",
   "execution_count": 8,
   "id": "8b79e2ba-57a7-451a-851c-d4b8f95298cf",
   "metadata": {},
   "outputs": [
    {
     "name": "stdout",
     "output_type": "stream",
     "text": [
      "ls: cannot access 'my_package/': No such file or directory\n"
     ]
    }
   ],
   "source": [
    "!ls -lR my_package/"
   ]
  },
  {
   "cell_type": "code",
   "execution_count": null,
   "id": "18229a97-c0de-418b-af54-4b3c96aaa6de",
   "metadata": {},
   "outputs": [],
   "source": []
  }
 ],
 "metadata": {
  "kernelspec": {
   "display_name": "Python 3 (ipykernel)",
   "language": "python",
   "name": "python3"
  },
  "language_info": {
   "codemirror_mode": {
    "name": "ipython",
    "version": 3
   },
   "file_extension": ".py",
   "mimetype": "text/x-python",
   "name": "python",
   "nbconvert_exporter": "python",
   "pygments_lexer": "ipython3",
   "version": "3.11.4"
  }
 },
 "nbformat": 4,
 "nbformat_minor": 5
}
