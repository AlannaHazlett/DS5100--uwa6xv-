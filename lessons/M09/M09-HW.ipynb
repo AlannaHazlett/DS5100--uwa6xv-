{
 "cells": [
  {
   "cell_type": "markdown",
   "id": "bbea800c-241d-42b4-a744-ecaffe13959e",
   "metadata": {},
   "source": [
    "# Metadata\n",
    "\n",
    "```yaml\n",
    "Course:  DS 5100\n",
    "Module:  09 Python Packages\n",
    "Topic:   HW Package Booklover\n",
    "Author:  R.C. Alvarado (adapted)\n",
    "Date:    7 July 2023 (revised)\n",
    "```"
   ]
  },
  {
   "cell_type": "raw",
   "id": "4c01748d-ecfb-400c-8441-b32eb89d14c6",
   "metadata": {},
   "source": [
    "# Student Info\n",
    "\n",
    "* Name: Alanna Hazlett \n",
    "* Net UD: uwa6xv\n",
    "* URL of this file in GitHub:"
   ]
  },
  {
   "cell_type": "markdown",
   "id": "375875a8-1503-46eb-8ea1-7e5bf39b5c41",
   "metadata": {},
   "source": [
    "# Instructions\n",
    "\n",
    "In your **private course repo on Rivanna**, use this Jupyter notebook and the data file described to write code that performs the tasks below. \n",
    "\n",
    "Save your notebook in the `M09` directory.\n",
    "\n",
    "Remember to add and commit these files to your repo. \n",
    "\n",
    "Then push your commits to your repo on GitHib.\n",
    "\n",
    "Be sure to fill out the **Student Info** block above.\n",
    "\n",
    "To submit your homework, save your results as a PDF and upload it to GradeScope. More information about how to create the PDF for this assignment are included at the end of this document.\n",
    "\n",
    "**TOTAL POINTS: 8**"
   ]
  },
  {
   "cell_type": "markdown",
   "id": "914fd4ab-d070-4810-8d36-e23c9f309864",
   "metadata": {},
   "source": [
    "# Overview\n",
    "\n",
    "Follow the following recipe we used in class to package the code you wrote for `HW08` -- `booklover.py` and `booklover_test.py`.\n",
    "\n",
    "* Create a new git repo for your package.\n",
    "* Create and edit the required files and directories for your package and move the booklover modules there.\n",
    "* Stage, commit, and push all the files you've created.\n",
    "* Install your package with pip.\n",
    "* Outside of your package dir, write a script to test your method.\n",
    "\n",
    "Put this notebook in your repo. This will allow you to execute bash commands and capture the output directly in the notebook.\n",
    "\n",
    "**TOTAL: 8 POINTS**"
   ]
  },
  {
   "cell_type": "markdown",
   "id": "6e39ba79-49ee-41e8-9e49-23d9d6bac2e0",
   "metadata": {
    "tags": []
   },
   "source": [
    "# Tasks"
   ]
  },
  {
   "cell_type": "markdown",
   "id": "fb11de14",
   "metadata": {},
   "source": [
    "## Task 1\n",
    "\n",
    "(5 points)\n",
    "\n",
    "Show the directory structure of your repo by running this command from the root of your repo:"
   ]
  },
  {
   "cell_type": "code",
   "execution_count": 1,
   "id": "7e6c6607",
   "metadata": {},
   "outputs": [],
   "source": [
    "#!ls -lR"
   ]
  },
  {
   "cell_type": "markdown",
   "id": "2b39225f-fcb5-4d1f-bc41-ee6a9f6909f0",
   "metadata": {},
   "source": [
    "```bash\n",
    "/sfs/qumulo/qhome/uwa6xv/Documents/MSDS/DS5100/M09_HW_Package\n",
    "bash-4.4$!ls -lR\n",
    "ls -lR\n",
    ".:\n",
    "total 32\n",
    "drwx--S--- 3 uwa6xv users 1536 Mar 28 20:59 booklover_package\n",
    "drwx--S--- 2 uwa6xv users 2048 Mar 28 21:13 booklover_package.egg-info\n",
    "-rw------- 1 uwa6xv users 2888 Mar 28 20:40 booklover_test.py\n",
    "drwx--S--- 4 uwa6xv users 1024 Mar 28 21:13 build\n",
    "-rw------- 1 uwa6xv users 1063 Mar 28 20:32 LICENSE\n",
    "-rw------- 1 uwa6xv users   16 Mar 28 20:32 README.md\n",
    "-rw------- 1 uwa6xv users  227 Mar 28 20:48 setup.py\n",
    "\n",
    "./booklover_package:\n",
    "total 8\n",
    "-rw------- 1 uwa6xv users 1351 Mar 28 20:40 booklover.py\n",
    "-rw------- 1 uwa6xv users   41 Mar 28 20:52 __init__.py\n",
    "\n",
    "./booklover_package.egg-info:\n",
    "total 16\n",
    "-rw------- 1 uwa6xv users   1 Mar 28 21:13 dependency_links.txt\n",
    "-rw------- 1 uwa6xv users 151 Mar 28 21:13 PKG-INFO\n",
    "-rw------- 1 uwa6xv users 251 Mar 28 21:13 SOURCES.txt\n",
    "-rw------- 1 uwa6xv users  18 Mar 28 21:13 top_level.txt\n",
    "\n",
    "./build:\n",
    "total 8\n",
    "drwx--S--- 2 uwa6xv users   0 Mar 28 21:13 bdist.linux-x86_64\n",
    "drwx--S--- 3 uwa6xv users 512 Mar 28 21:13 lib\n",
    "\n",
    "./build/bdist.linux-x86_64:\n",
    "total 0\n",
    "\n",
    "./build/lib:\n",
    "total 4\n",
    "drwx--S--- 2 uwa6xv users 1024 Mar 28 21:13 booklover_package\n",
    "\n",
    "./build/lib/booklover_package:\n",
    "total 8\n",
    "-rw------- 1 uwa6xv users 1351 Mar 28 20:40 booklover.py\n",
    "-rw------- 1 uwa6xv users   41 Mar 28 20:52 __init__.py\n",
    "bash-4.4$\n",
    "\n",
    "```"
   ]
  },
  {
   "cell_type": "markdown",
   "id": "6b6f288b-05aa-441b-8c73-84b50b3b6844",
   "metadata": {},
   "source": [
    "## Task 2\n",
    "\n",
    "(1 point)\n",
    "\n",
    "Put the URL of your GitHub repo here. Just paste it into a Markdown cell."
   ]
  },
  {
   "cell_type": "markdown",
   "id": "4d09d889-6104-4f20-b31c-2d8a72b17693",
   "metadata": {},
   "source": [
    "URL: https://github.com/AlannaHazlett/M09_HW_Package"
   ]
  },
  {
   "cell_type": "markdown",
   "id": "f989dcd1-b1d2-4eb9-8ef6-8ca2d8495260",
   "metadata": {
    "lines_to_next_cell": 0
   },
   "source": [
    "## Task 3\n",
    "\n",
    "(1 point)\n",
    "\n",
    "Show the results of installing your package.\n",
    "\n",
    "```bash\n",
    "!pip install -e .\n",
    "```"
   ]
  },
  {
   "cell_type": "markdown",
   "id": "b68295e2-c676-4f70-9e23-96f0c4d2c57c",
   "metadata": {},
   "source": [
    "```bash\n",
    "/home/uwa6xv/Documents/MSDS/DS5100/M09_HW_Package\n",
    "-bash-4.4$pip install .\n",
    "Defaulting to user installation because normal site-packages is not writeable\n",
    "Processing /sfs/qumulo/qhome/uwa6xv/Documents/MSDS/DS5100/M09_HW_Package\n",
    "  Preparing metadata (setup.py) ... done\n",
    "Building wheels for collected packages: booklover-package\n",
    "  Building wheel for booklover-package (setup.py) ... done\n",
    "  Created wheel for booklover-package: filename=booklover_package-0.0.1-py3-none-any.whl size=2852 sha256=46acbbb76fc7dcc28f02c1f7c49fdfc4461a61798162092f256b7aaaa8\n",
    "0b8f9c\n",
    "  Stored in directory: /tmp/pip-ephem-wheel-cache-djqfyuvw/wheels/22/a4/93/da89602973f87feba256a5a3823d5775b386c6795d18e78df9\n",
    "Successfully built booklover-package\n",
    "Installing collected packages: booklover-package\n",
    "  Attempting uninstall: booklover-package\n",
    "    Found existing installation: booklover-package 0.0.1\n",
    "    Uninstalling booklover-package-0.0.1:\n",
    "      Successfully uninstalled booklover-package-0.0.1\n",
    "Successfully installed booklover-package-0.0.1\n",
    "```"
   ]
  },
  {
   "cell_type": "markdown",
   "id": "5b1a642e-74f0-43ff-97a3-9ddc7553978e",
   "metadata": {},
   "source": [
    "## Task 4\n",
    "\n",
    "(1 point)\n",
    "\n",
    "Create a file outside your repo to test your package by running it.\n",
    "\n",
    "To do this, import the package into your file and create a BookLover object.\n",
    "\n",
    "Then add a book and then print number books read.\n",
    "\n",
    "Then run the file. \n",
    "\n",
    "Show the output of running the file below, using a command like the following:\n",
    "\n",
    "```bash\n",
    "!python ../book_lover_demo.py\n",
    "```"
   ]
  },
  {
   "cell_type": "code",
   "execution_count": 2,
   "id": "2d7cd0a0-45f1-4e20-ae9c-a4a08dfbde57",
   "metadata": {
    "tags": []
   },
   "outputs": [
    {
     "name": "stdout",
     "output_type": "stream",
     "text": [
      "You have initalized the package!\n"
     ]
    }
   ],
   "source": [
    "from booklover_package.booklover import BookLover"
   ]
  },
  {
   "cell_type": "code",
   "execution_count": 3,
   "id": "0832a8f8-2b5f-4c32-843d-25c5abf1ebde",
   "metadata": {
    "tags": []
   },
   "outputs": [],
   "source": [
    "#import booklover_package.booklover as bl"
   ]
  },
  {
   "cell_type": "code",
   "execution_count": 4,
   "id": "91d14369-c235-4262-99bb-344ef7939d27",
   "metadata": {
    "tags": []
   },
   "outputs": [],
   "source": [
    "#import booklover_package.booklover"
   ]
  },
  {
   "cell_type": "code",
   "execution_count": 5,
   "id": "5924fca8-6483-4f2b-a33f-6550d1726d6e",
   "metadata": {},
   "outputs": [],
   "source": [
    "test_object = BookLover(\"Han Solo\", \"hsolo@millenniumfalcon.com\", \"scifi\")\n",
    "test_object.add_book(\"War of the Worlds\", 4)"
   ]
  },
  {
   "cell_type": "code",
   "execution_count": 6,
   "id": "423a1927-f559-47d1-86a4-90d5299871af",
   "metadata": {
    "tags": []
   },
   "outputs": [
    {
     "data": {
      "text/html": [
       "<div>\n",
       "<style scoped>\n",
       "    .dataframe tbody tr th:only-of-type {\n",
       "        vertical-align: middle;\n",
       "    }\n",
       "\n",
       "    .dataframe tbody tr th {\n",
       "        vertical-align: top;\n",
       "    }\n",
       "\n",
       "    .dataframe thead th {\n",
       "        text-align: right;\n",
       "    }\n",
       "</style>\n",
       "<table border=\"1\" class=\"dataframe\">\n",
       "  <thead>\n",
       "    <tr style=\"text-align: right;\">\n",
       "      <th></th>\n",
       "      <th>book_name</th>\n",
       "      <th>book_rating</th>\n",
       "    </tr>\n",
       "  </thead>\n",
       "  <tbody>\n",
       "    <tr>\n",
       "      <th>0</th>\n",
       "      <td>War of the Worlds</td>\n",
       "      <td>4.0</td>\n",
       "    </tr>\n",
       "  </tbody>\n",
       "</table>\n",
       "</div>"
      ],
      "text/plain": [
       "           book_name  book_rating\n",
       "0  War of the Worlds          4.0"
      ]
     },
     "execution_count": 6,
     "metadata": {},
     "output_type": "execute_result"
    }
   ],
   "source": [
    "test_object.book_list"
   ]
  },
  {
   "cell_type": "code",
   "execution_count": 7,
   "id": "24b05c19-7caa-46ec-96a0-1c6d2fd80b7a",
   "metadata": {
    "tags": []
   },
   "outputs": [
    {
     "data": {
      "text/plain": [
       "1"
      ]
     },
     "execution_count": 7,
     "metadata": {},
     "output_type": "execute_result"
    }
   ],
   "source": [
    "test_object.num_books_read()"
   ]
  },
  {
   "cell_type": "code",
   "execution_count": null,
   "id": "8f4919af-fe8e-494a-b936-902afa1539a4",
   "metadata": {},
   "outputs": [],
   "source": []
  }
 ],
 "metadata": {
  "jupytext": {
   "cell_metadata_filter": "-all",
   "main_language": "bash",
   "notebook_metadata_filter": "-all"
  },
  "kernelspec": {
   "display_name": "Python 3 (ipykernel)",
   "language": "python",
   "name": "python3"
  },
  "language_info": {
   "codemirror_mode": {
    "name": "ipython",
    "version": 3
   },
   "file_extension": ".py",
   "mimetype": "text/x-python",
   "name": "python",
   "nbconvert_exporter": "python",
   "pygments_lexer": "ipython3",
   "version": "3.11.4"
  },
  "vscode": {
   "interpreter": {
    "hash": "c3b963de08c47c3b6758389c5e0978ad73698a111eb508d4e16b558edb8f4cbf"
   }
  },
  "widgets": {
   "application/vnd.jupyter.widget-state+json": {
    "state": {},
    "version_major": 2,
    "version_minor": 0
   }
  }
 },
 "nbformat": 4,
 "nbformat_minor": 5
}
