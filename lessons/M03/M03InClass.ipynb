{
 "cells": [
  {
   "cell_type": "code",
   "execution_count": 3,
   "id": "da64fdfc-6e7c-4342-ba03-bcf4be84b24a",
   "metadata": {},
   "outputs": [
    {
     "name": "stdout",
     "output_type": "stream",
     "text": [
      "bucket4\n"
     ]
    }
   ],
   "source": [
    "val = 5\n",
    "if -10<val<-5:\n",
    "    print('bucket1')\n",
    "elif -5 <= val <-2:\n",
    "    print('bucket')\n",
    "elif val == -2:\n",
    "    print('bucket 3')\n",
    "    \n",
    "# 5 prints nothing, modify by adding else statement \n",
    "else:\n",
    "    print('bucket4')"
   ]
  },
  {
   "cell_type": "code",
   "execution_count": 5,
   "id": "8ae1e4c3-f208-4f5b-9a14-d24215ff2335",
   "metadata": {},
   "outputs": [
    {
     "name": "stdout",
     "output_type": "stream",
     "text": [
      "8\n",
      "-2\n",
      "max_val\n",
      "0\n",
      "5\n",
      "6\n"
     ]
    }
   ],
   "source": [
    "xx = [-2,8,0,5,6]\n",
    "max_val = max(xx)\n",
    "for x in xx:\n",
    "    if x < max_val:\n",
    "        print(x)\n",
    "    else:\n",
    "        print(\"max_val\")"
   ]
  },
  {
   "cell_type": "code",
   "execution_count": 6,
   "id": "23f4a1ba-81a2-46e2-9a3b-4aae886b4d5a",
   "metadata": {},
   "outputs": [
    {
     "name": "stdout",
     "output_type": "stream",
     "text": [
      "-2\n",
      "max_val\n",
      "0\n",
      "5\n",
      "6\n"
     ]
    }
   ],
   "source": [
    "# Comprehension Version \n",
    "for x in xx:\n",
    "    print(x) if x < max_val else print('max_val')\n",
    "    # do this if this is true, if not true do this  \n",
    "    "
   ]
  },
  {
   "cell_type": "code",
   "execution_count": 8,
   "id": "be2a0946-bcad-40bd-ab21-5ca3aa8827c5",
   "metadata": {},
   "outputs": [
    {
     "name": "stdout",
     "output_type": "stream",
     "text": [
      "0\n",
      "10\n",
      "20\n",
      "30\n",
      "40\n",
      "50\n",
      "60\n",
      "70\n",
      "80\n",
      "90\n"
     ]
    }
   ],
   "source": [
    "it = 0\n",
    "max_iter = 100\n",
    "while it < max_iter:\n",
    "    if (it == 0) or (it % 10 == 0):\n",
    "        print(it)\n",
    "    it = it + 1"
   ]
  },
  {
   "cell_type": "code",
   "execution_count": 11,
   "id": "f4d2262f-acb9-40fc-9f03-46c4f180243e",
   "metadata": {},
   "outputs": [
    {
     "name": "stdout",
     "output_type": "stream",
     "text": [
      "alanna\n",
      "etienne\n",
      "tim\n",
      "nicole\n"
     ]
    }
   ],
   "source": [
    "names = [\"Alanna\", \"Etienne\",\"Tim\",\"Nicole\"]\n",
    "for name in names:\n",
    "    print(name.lower())"
   ]
  },
  {
   "cell_type": "code",
   "execution_count": 12,
   "id": "db82d518-ddca-40c0-9ef9-537242068840",
   "metadata": {},
   "outputs": [
    {
     "name": "stdout",
     "output_type": "stream",
     "text": [
      "alanna\n",
      "etienne\n",
      "tim\n",
      "nicole\n"
     ]
    }
   ],
   "source": [
    "# Comprehension Version \n",
    "# Underscore is a placeholder, gets thrown away\n",
    "_ = [print(x.lower()) for x in names]"
   ]
  },
  {
   "cell_type": "code",
   "execution_count": 13,
   "id": "0f0960e9-59ba-4520-91d3-4ddfeadadf50",
   "metadata": {},
   "outputs": [
    {
     "name": "stdout",
     "output_type": "stream",
     "text": [
      "Alanna\n",
      "Etienne\n",
      "Tim\n",
      "Nicole\n"
     ]
    }
   ],
   "source": [
    "myit = iter(names)\n",
    "print(next(myit))\n",
    "print(next(myit))\n",
    "print(next(myit))\n",
    "print(next(myit))"
   ]
  },
  {
   "cell_type": "code",
   "execution_count": null,
   "id": "260933ea-c787-4cab-b3f2-d489e5746225",
   "metadata": {},
   "outputs": [],
   "source": [
    "# Comprehension\n"
   ]
  },
  {
   "cell_type": "code",
   "execution_count": 14,
   "id": "dbd98feb-1c39-4514-a8d1-ef3e49c1385a",
   "metadata": {},
   "outputs": [
    {
     "name": "stdout",
     "output_type": "stream",
     "text": [
      "Cedar Rapids 52402\n",
      "Ames 50014\n"
     ]
    }
   ],
   "source": [
    "iowa = {'Cedar Rapids':52402, 'Ames': 50014}\n",
    "for city,zip in iowa.items():\n",
    "    print(city,zip)\n"
   ]
  },
  {
   "cell_type": "code",
   "execution_count": 16,
   "id": "07e8147c-324f-4990-84dc-711d57485371",
   "metadata": {},
   "outputs": [
    {
     "name": "stdout",
     "output_type": "stream",
     "text": [
      "Cedar Rapids 52402\n",
      "Ames 50014\n"
     ]
    }
   ],
   "source": [
    "# Comprehension Version\n",
    "_ =[print(city,zip) for city,zip in iowa.items()]"
   ]
  },
  {
   "cell_type": "code",
   "execution_count": 20,
   "id": "9a24b79e-e815-4bbf-a6e5-db31b953a690",
   "metadata": {},
   "outputs": [
    {
     "name": "stdout",
     "output_type": "stream",
     "text": [
      "Cedar Rapids 52402\n",
      "Ames 50014\n"
     ]
    }
   ],
   "source": [
    "print(\"\\n\".join([f\"{city} {zip}\" for city,zip in iowa.items()]))"
   ]
  },
  {
   "cell_type": "code",
   "execution_count": null,
   "id": "4162823c-f2f2-47cb-9b51-b70867944712",
   "metadata": {},
   "outputs": [],
   "source": []
  }
 ],
 "metadata": {
  "kernelspec": {
   "display_name": "Python 3 (ipykernel)",
   "language": "python",
   "name": "python3"
  },
  "language_info": {
   "codemirror_mode": {
    "name": "ipython",
    "version": 3
   },
   "file_extension": ".py",
   "mimetype": "text/x-python",
   "name": "python",
   "nbconvert_exporter": "python",
   "pygments_lexer": "ipython3",
   "version": "3.11.4"
  }
 },
 "nbformat": 4,
 "nbformat_minor": 5
}
