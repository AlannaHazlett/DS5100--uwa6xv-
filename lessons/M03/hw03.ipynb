{
 "cells": [
  {
   "cell_type": "markdown",
   "id": "5e37e2d7-a4fb-4db9-b66e-2e4b7b3d462f",
   "metadata": {
    "tags": []
   },
   "source": [
    "# Metadata\n",
    "\n",
    "```yaml\n",
    "Course:   DS 5100\n",
    "Term:     Spring 2024\n",
    "Module:   M03 Homework\n",
    "Author:   R.C. Alvarado\n",
    "Date:     08 February 2024 (revised)\n",
    "```"
   ]
  },
  {
   "cell_type": "markdown",
   "id": "94ceb3ff-6c45-48bd-8406-56fa769e7e34",
   "metadata": {},
   "source": [
    "# Student Info\n",
    "\n",
    "* Name: Alanna Hazlett\n",
    "* Net ID: uwa6xv\n",
    "* URL of this file in GitHub: https://github.com/AlannaHazlett/DS5100--uwa6xv-/tree/main/lessons/M03"
   ]
  },
  {
   "cell_type": "markdown",
   "id": "9f03ef56-683b-4301-8697-bdca61d8d546",
   "metadata": {
    "tags": []
   },
   "source": [
    "# Instructions\n",
    "\n",
    "In your **private course repo on Rivanna**, write a Jupyter notebook running Python that performs the numbered tasks below. \n",
    "\n",
    "For each task, create a code cell to perform the task.\n",
    "\n",
    "Save your notebook in the `M03` directory as `hw03.ipynb`. \n",
    "\n",
    "Add and commit these files to your repo. \n",
    "\n",
    "Then push your commits to your repo on GitHib.\n",
    "\n",
    "Be sure to fill out the **Student Info** block above.\n",
    "\n",
    "To submit your homework, save the notebook as a PDF and upload it to GradeScope, following the instructions.\n",
    "\n",
    "**12 points**"
   ]
  },
  {
   "cell_type": "markdown",
   "id": "809cced7-1024-41af-93bd-737ba99241a7",
   "metadata": {},
   "source": [
    "# Task 1\n",
    "\n",
    "(6 points)\n",
    "\n",
    "Using the **for** loop and **if** statement control structures, \n",
    "write a script that generates the integers from $1$ to $100$ and does the following things:\n",
    "\n",
    "* If $3$ is a factor of the number but $5$ is not, print `Wahoo`.\n",
    "* If $5$ is a factor of the number but $3$ is not, print `wah!`.\n",
    "* If both $3$ and $5$ are factors of the number, print `Wahoowah!`.\n",
    "* If the number meets none of the above conditions, print nothing, not even a line break.\n",
    "* Make sure that the line printed for each iteration in which a condition is met ends with a line break.\n",
    "* When the loop is finished, print the number of times either conidtion was met, i.e. the number of lines that were printed.\n",
    "\n",
    "Hint: You may not need to use **elif** and **else** to accomplish these tasks."
   ]
  },
  {
   "cell_type": "code",
   "execution_count": 80,
   "id": "73e6b63d-38ca-488a-9a2a-009c150d8dbd",
   "metadata": {},
   "outputs": [
    {
     "name": "stdout",
     "output_type": "stream",
     "text": [
      "Wahoo\n",
      "wah!\n",
      "Wahoo\n",
      "Wahoo\n",
      "wah!\n",
      "Wahoo\n",
      "Wahoowah!\n",
      "Wahoo\n",
      "wah!\n",
      "Wahoo\n",
      "Wahoo\n",
      "wah!\n",
      "Wahoo\n",
      "Wahoowah!\n",
      "Wahoo\n",
      "wah!\n",
      "Wahoo\n",
      "Wahoo\n",
      "wah!\n",
      "Wahoo\n",
      "Wahoowah!\n",
      "Wahoo\n",
      "wah!\n",
      "Wahoo\n",
      "Wahoo\n",
      "wah!\n",
      "Wahoo\n",
      "Wahoowah!\n",
      "Wahoo\n",
      "wah!\n",
      "Wahoo\n",
      "Wahoo\n",
      "wah!\n",
      "Wahoo\n",
      "Wahoowah!\n",
      "Wahoo\n",
      "wah!\n",
      "Wahoo\n",
      "Wahoo\n",
      "wah!\n",
      "Wahoo\n",
      "Wahoowah!\n",
      "Wahoo\n",
      "wah!\n",
      "Wahoo\n",
      "Wahoo\n",
      "wah!\n",
      "There are 27 numbers that are multiples of only 3.\n",
      "There are 14 numbers that are multiples of only 5.\n",
      "There are 6 numbers that are multiples of 3 and 5.\n",
      "Total true values is 47\n"
     ]
    }
   ],
   "source": [
    "counter = 0\n",
    "count3 = 0\n",
    "count5 = 0\n",
    "count3_5 = 0\n",
    "for num in range(1,101):\n",
    "    if num % 3 == 0 and num % 5 != 0:\n",
    "        print(\"Wahoo\")\n",
    "        count3 += 1\n",
    "        counter += 1\n",
    "    if num % 5 == 0 and num % 3 != 0:\n",
    "        print(\"wah!\")\n",
    "        count5 += 1\n",
    "        counter += 1\n",
    "    if num % 3 == 0 and num % 5 ==0:\n",
    "        print(\"Wahoowah!\")\n",
    "        count3_5 += 1\n",
    "        counter += 1\n",
    "print(\"There are \" + str(count3) + \" numbers that are multiples of only 3.\")    \n",
    "print(\"There are \" + str(count5) + \" numbers that are multiples of only 5.\")\n",
    "print(\"There are \" + str(count3_5) + \" numbers that are multiples of 3 and 5.\")\n",
    "print(\"Total true values is \" + str(counter))"
   ]
  },
  {
   "cell_type": "markdown",
   "id": "eefd829e-9d2d-44b1-9268-4aa605c4e40d",
   "metadata": {
    "tags": []
   },
   "source": [
    "# Task 2\n",
    "\n",
    "(3 points)\n",
    "\n",
    "Rewrite the `for` loop as a `while` loop. \n",
    "\n",
    "This time, only print lines where both conditions are met. \n",
    "\n",
    "Include a final line which prints the number of times both conditions are met."
   ]
  },
  {
   "cell_type": "code",
   "execution_count": 33,
   "id": "704989f4-0d1b-457e-9179-6c080aa83f9d",
   "metadata": {},
   "outputs": [
    {
     "name": "stdout",
     "output_type": "stream",
     "text": [
      "Wahoowah!\n",
      "Wahoowah!\n",
      "Wahoowah!\n",
      "Wahoowah!\n",
      "Wahoowah!\n",
      "Wahoowah!\n",
      "6\n"
     ]
    }
   ],
   "source": [
    "x = 1\n",
    "list3_5=[]\n",
    "while x in range(1,101): \n",
    "    if x % 3 == 0 and x % 5 == 0:\n",
    "        list3_5.append(\"Multiple of 3 and 5\")\n",
    "        print(\"Wahoowah!\")\n",
    "    x += 1\n",
    "print(list3_5.count(\"Multiple of 3 and 5\"))\n"
   ]
  },
  {
   "cell_type": "markdown",
   "id": "9cdb8762-4e13-4b71-bbde-9f6d7357aaec",
   "metadata": {
    "tags": []
   },
   "source": [
    "# Task 3\n",
    "\n",
    "(3 points)\n",
    "\n",
    "Write a list comprehension that iterates through the integers from $1$ to $100$ and returns a list containing the sum of the boolean values of the three conditions described in Task 1."
   ]
  },
  {
   "cell_type": "code",
   "execution_count": 107,
   "id": "af38602c-1e6e-4de0-906a-5c1e5d780b49",
   "metadata": {},
   "outputs": [
    {
     "name": "stdout",
     "output_type": "stream",
     "text": [
      "[27, 14, 6]\n",
      "47\n",
      "[47]\n"
     ]
    }
   ],
   "source": [
    "# Uses all three boolean values and returns list of 3 values\n",
    "total = [sum(num % 3 == 0 and num % 5 != 0 for num in range(1,101)),\n",
    "        sum(num % 5 == 0 and num % 3 != 0 for num in range(1,101)),\n",
    "        sum(num % 3 == 0 and num % 5 == 0 for num in range(1,101))]\n",
    "print(total)\n",
    "print(sum(total))\n",
    "\n",
    "# Returns single value only using 2 booleans\n",
    "x = [sum(i % 3 == 0 or i % 5 == 0 for i in range(1,101))]\n",
    "print(x)"
   ]
  },
  {
   "cell_type": "code",
   "execution_count": null,
   "id": "2e200aa5-17d5-42a5-aac9-00fbccbca9e6",
   "metadata": {},
   "outputs": [],
   "source": []
  }
 ],
 "metadata": {
  "kernelspec": {
   "display_name": "Python 3 (ipykernel)",
   "language": "python",
   "name": "python3"
  },
  "language_info": {
   "codemirror_mode": {
    "name": "ipython",
    "version": 3
   },
   "file_extension": ".py",
   "mimetype": "text/x-python",
   "name": "python",
   "nbconvert_exporter": "python",
   "pygments_lexer": "ipython3",
   "version": "3.11.4"
  },
  "widgets": {
   "application/vnd.jupyter.widget-state+json": {
    "state": {},
    "version_major": 2,
    "version_minor": 0
   }
  }
 },
 "nbformat": 4,
 "nbformat_minor": 5
}
