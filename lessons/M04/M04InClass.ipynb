{
 "cells": [
  {
   "cell_type": "code",
   "execution_count": 24,
   "id": "95fd4521-47b3-42ac-8195-76b6ee011a0d",
   "metadata": {
    "tags": []
   },
   "outputs": [
    {
     "data": {
      "text/plain": [
       "True"
      ]
     },
     "execution_count": 24,
     "metadata": {},
     "output_type": "execute_result"
    }
   ],
   "source": [
    "def test(x,y):\n",
    "    '''\n",
    "    Purpose: To see if the length of the string is equal to designated length. \n",
    "    Inputs: string, integer\n",
    "    Output: Boolean\n",
    "    '''\n",
    "    if len(x) == y:\n",
    "        return True\n",
    "test('is this text the right length?',30)\n"
   ]
  },
  {
   "cell_type": "code",
   "execution_count": 31,
   "id": "be1e4998-e90c-4f00-8ec9-4a6b979e5701",
   "metadata": {
    "tags": []
   },
   "outputs": [],
   "source": [
    "def square_args(*vars):\n",
    "    for var in vars:\n",
    "        print(var ** 2)\n",
    "    return None"
   ]
  },
  {
   "cell_type": "code",
   "execution_count": 32,
   "id": "ec0120d5-840a-4d37-81df-a93896513fc7",
   "metadata": {
    "tags": []
   },
   "outputs": [
    {
     "name": "stdout",
     "output_type": "stream",
     "text": [
      "1\n",
      "4\n",
      "9\n",
      "16\n"
     ]
    }
   ],
   "source": [
    "square_args(1,2,3,4)"
   ]
  },
  {
   "cell_type": "code",
   "execution_count": 38,
   "id": "5e092ed1-d8dd-4621-ab5b-5db88430cc4c",
   "metadata": {
    "tags": []
   },
   "outputs": [
    {
     "data": {
      "text/plain": [
       "'W7N'"
      ]
     },
     "execution_count": 38,
     "metadata": {},
     "output_type": "execute_result"
    }
   ],
   "source": [
    "def word_shortener(long_word,min_len=5):\n",
    "    '''\n",
    "    Purpose: Capitalize first and last letters, replacing middle letters with length.\n",
    "    Input: String\n",
    "    Output: String\n",
    "    '''\n",
    "    if not isinstance(long_word, str):\n",
    "        print(f\"{long_word} is a {type(long_word)}, not a string!\")\n",
    "        return False\n",
    "    elif len(long_word) < min_len:\n",
    "        print(f\"{long_word} is too short. Put in a word at least {min_len} letters long.\")\n",
    "        return False\n",
    "    else:\n",
    "        first_letter = long_word[0].upper()\n",
    "        last_letter = long_word[-1].upper()\n",
    "        middle_number = len(long_word[1:-1])\n",
    "        new_word = first_letter + str(middle_number) + last_letter\n",
    "        return new_word\n",
    "word_shortener(\"Wisconsin\")        "
   ]
  },
  {
   "cell_type": "code",
   "execution_count": 23,
   "id": "b7ed4dba-bfe3-4b08-b9e7-3f1d56337531",
   "metadata": {
    "tags": []
   },
   "outputs": [
    {
     "data": {
      "text/plain": [
       "True"
      ]
     },
     "execution_count": 23,
     "metadata": {},
     "output_type": "execute_result"
    }
   ],
   "source": [
    "in_range = lambda x: x >= 10 and x <=25\n",
    "in_range(17)"
   ]
  },
  {
   "cell_type": "code",
   "execution_count": 22,
   "id": "adaaeb63-12dd-45f7-9841-ac24dd2b114f",
   "metadata": {
    "tags": []
   },
   "outputs": [
    {
     "data": {
      "text/plain": [
       "False"
      ]
     },
     "execution_count": 22,
     "metadata": {},
     "output_type": "execute_result"
    }
   ],
   "source": [
    "in_range(1)"
   ]
  },
  {
   "cell_type": "code",
   "execution_count": null,
   "id": "1bffdeff-1edd-4f8e-86f6-6a55bc156091",
   "metadata": {},
   "outputs": [],
   "source": []
  }
 ],
 "metadata": {
  "kernelspec": {
   "display_name": "Python 3 (ipykernel)",
   "language": "python",
   "name": "python3"
  },
  "language_info": {
   "codemirror_mode": {
    "name": "ipython",
    "version": 3
   },
   "file_extension": ".py",
   "mimetype": "text/x-python",
   "name": "python",
   "nbconvert_exporter": "python",
   "pygments_lexer": "ipython3",
   "version": "3.11.4"
  }
 },
 "nbformat": 4,
 "nbformat_minor": 5
}
