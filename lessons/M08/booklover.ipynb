{
 "cells": [
  {
   "cell_type": "code",
   "execution_count": 1,
   "id": "88599c97-e9b4-46fd-9235-0e9ed3c97ab8",
   "metadata": {
    "tags": []
   },
   "outputs": [],
   "source": [
    "import pandas as pd\n",
    "import numpy as np\n",
    "class BookLover():\n",
    "    '''Stores data about books users have read.'''\n",
    "    num_books = 0\n",
    "    book_list = pd.DataFrame({'book_name':[], 'book_rating':[]})\n",
    "    \n",
    "    def __init__(self,name,email,fav_genre):\n",
    "        self.name = name\n",
    "        self.email = email\n",
    "        self.fav_genre = fav_genre\n",
    "        \n",
    "        \n",
    "    def add_book(self,book_name,book_rating):\n",
    "        # Check if value book_name exists in any rows of any columns\n",
    "        if self.book_list.isin([book_name]).any().any():\n",
    "            print(\"Book already exists in the DataFrame\")\n",
    "        else:\n",
    "            self.num_books += 1\n",
    "            new_book = pd.DataFrame({\n",
    "            'book_name': [book_name], \n",
    "            'book_rating': [book_rating]\n",
    "            })\n",
    "            self.book_list = pd.concat([self.book_list, new_book], ignore_index=True)\n",
    "        \n",
    "        \n",
    "        #try:\n",
    "            #self.num_books += 1\n",
    "            #new_book = pd.DataFrame({\n",
    "            #'book_name': [book_name], \n",
    "            #'book_rating': [book_rating]\n",
    "            #})\n",
    "            #self.book_list = pd.concat([self.book_list, new_book], ignore_index=True)\n",
    "        #except: \n",
    "            #new_book['book_name'] == self.book_name\n",
    "            \n",
    "        \n",
    "        \n",
    "        \n",
    "        #if book_name in self.book_list:\n",
    "            #pass\n",
    "       # else:\n",
    "            #self.num_books += 1\n",
    "            #new_book = pd.DataFrame({\n",
    "            #'book_name': [book_name], \n",
    "            #'book_rating': [book_rating]\n",
    "            #})\n",
    "            #self.book_list = pd.concat([self.book_list, new_book], ignore_index=True)\n",
    "        \n",
    "        \n",
    "    def has_read(self,book_name):\n",
    "        #The method should return True if the person has read the book, False otherwise.\n",
    "        if self.book_list.isin([book_name]).any().any():\n",
    "            return True\n",
    "        else:\n",
    "            return False\n",
    "        \n",
    "        #if book_name in self.book_list:\n",
    "            #return True\n",
    "        #else:\n",
    "            #return False\n",
    "        \n",
    "        \n",
    "    def num_books_read(self):\n",
    "        return self.book_list.shape[0]\n",
    "        #return self.num_books\n",
    "    \n",
    "    def fav_books(self):\n",
    "        #return [print(book_name) for book in book_rating > 3]\n",
    "        #return self.book_list[(self.book_list.book_rating > 3)].values()\n",
    "         #return self.book_list.query(\"book_rating > 3\").values()\n",
    "        #return self.book_list[self.book_rating > 3].values\n",
    "        return self.book_list[self.book_list.book_rating > 3]\n",
    "    "
   ]
  },
  {
   "cell_type": "code",
   "execution_count": 2,
   "id": "1a851943-da5b-4f2e-a33c-6c24b9eaebae",
   "metadata": {
    "tags": []
   },
   "outputs": [],
   "source": [
    "test_object = BookLover(\"Han Solo\", \"hsolo@millenniumfalcon.com\", \"scifi\")"
   ]
  },
  {
   "cell_type": "code",
   "execution_count": 3,
   "id": "ef439893-5cde-47aa-a4b7-6ea4d85c143d",
   "metadata": {
    "tags": []
   },
   "outputs": [
    {
     "data": {
      "text/plain": [
       "'Han Solo'"
      ]
     },
     "execution_count": 3,
     "metadata": {},
     "output_type": "execute_result"
    }
   ],
   "source": [
    "test_object.name"
   ]
  },
  {
   "cell_type": "code",
   "execution_count": 4,
   "id": "4b711fed-fa59-4b3a-9949-2a3734c245e6",
   "metadata": {
    "tags": []
   },
   "outputs": [
    {
     "data": {
      "text/plain": [
       "'hsolo@millenniumfalcon.com'"
      ]
     },
     "execution_count": 4,
     "metadata": {},
     "output_type": "execute_result"
    }
   ],
   "source": [
    "test_object.email"
   ]
  },
  {
   "cell_type": "code",
   "execution_count": 5,
   "id": "5f135c8e-1976-419f-9baa-213ed065ab1d",
   "metadata": {
    "tags": []
   },
   "outputs": [
    {
     "data": {
      "text/plain": [
       "'scifi'"
      ]
     },
     "execution_count": 5,
     "metadata": {},
     "output_type": "execute_result"
    }
   ],
   "source": [
    "test_object.fav_genre"
   ]
  },
  {
   "cell_type": "code",
   "execution_count": 6,
   "id": "cfe5fa45-3104-46a9-84c4-08b36e87592b",
   "metadata": {
    "tags": []
   },
   "outputs": [],
   "source": [
    "test_object.add_book(\"War of the Worlds\", 4)"
   ]
  },
  {
   "cell_type": "code",
   "execution_count": 7,
   "id": "cc864a8d-a0bf-46df-ae4f-d6a52cace03a",
   "metadata": {
    "tags": []
   },
   "outputs": [
    {
     "data": {
      "text/html": [
       "<div>\n",
       "<style scoped>\n",
       "    .dataframe tbody tr th:only-of-type {\n",
       "        vertical-align: middle;\n",
       "    }\n",
       "\n",
       "    .dataframe tbody tr th {\n",
       "        vertical-align: top;\n",
       "    }\n",
       "\n",
       "    .dataframe thead th {\n",
       "        text-align: right;\n",
       "    }\n",
       "</style>\n",
       "<table border=\"1\" class=\"dataframe\">\n",
       "  <thead>\n",
       "    <tr style=\"text-align: right;\">\n",
       "      <th></th>\n",
       "      <th>book_name</th>\n",
       "      <th>book_rating</th>\n",
       "    </tr>\n",
       "  </thead>\n",
       "  <tbody>\n",
       "    <tr>\n",
       "      <th>0</th>\n",
       "      <td>War of the Worlds</td>\n",
       "      <td>4.0</td>\n",
       "    </tr>\n",
       "  </tbody>\n",
       "</table>\n",
       "</div>"
      ],
      "text/plain": [
       "           book_name  book_rating\n",
       "0  War of the Worlds          4.0"
      ]
     },
     "execution_count": 7,
     "metadata": {},
     "output_type": "execute_result"
    }
   ],
   "source": [
    "test_object.book_list"
   ]
  },
  {
   "cell_type": "code",
   "execution_count": 8,
   "id": "5596828c-688e-45f5-a917-b73f08be4eac",
   "metadata": {
    "tags": []
   },
   "outputs": [
    {
     "data": {
      "text/plain": [
       "False"
      ]
     },
     "execution_count": 8,
     "metadata": {},
     "output_type": "execute_result"
    }
   ],
   "source": [
    "test_object.has_read('Barbie')"
   ]
  },
  {
   "cell_type": "code",
   "execution_count": 9,
   "id": "cad6a433-7aa1-4519-9e84-a598b275c22d",
   "metadata": {
    "tags": []
   },
   "outputs": [
    {
     "data": {
      "text/plain": [
       "True"
      ]
     },
     "execution_count": 9,
     "metadata": {},
     "output_type": "execute_result"
    }
   ],
   "source": [
    "test_object.has_read(\"War of the Worlds\") "
   ]
  },
  {
   "cell_type": "code",
   "execution_count": 10,
   "id": "a03ce1b7-ff52-4deb-9b16-50215346d412",
   "metadata": {
    "tags": []
   },
   "outputs": [
    {
     "data": {
      "text/plain": [
       "1"
      ]
     },
     "execution_count": 10,
     "metadata": {},
     "output_type": "execute_result"
    }
   ],
   "source": [
    "test_object.num_books"
   ]
  },
  {
   "cell_type": "code",
   "execution_count": 11,
   "id": "ff92ebe3-d2e8-4fb3-8572-48fe65ad13b3",
   "metadata": {
    "tags": []
   },
   "outputs": [
    {
     "data": {
      "text/plain": [
       "1"
      ]
     },
     "execution_count": 11,
     "metadata": {},
     "output_type": "execute_result"
    }
   ],
   "source": [
    "test_object.num_books_read() "
   ]
  },
  {
   "cell_type": "code",
   "execution_count": 12,
   "id": "007378e0-4951-477b-b1d3-27ebcfe94abf",
   "metadata": {
    "tags": []
   },
   "outputs": [
    {
     "name": "stdout",
     "output_type": "stream",
     "text": [
      "Book already exists in the DataFrame\n"
     ]
    }
   ],
   "source": [
    "test_object.add_book(\"War of the Worlds\",5) \n",
    "test_object.add_book(\"Jane Eyre\", 4)\n",
    "test_object.add_book(\"Fight Club\", 3)\n",
    "test_object.add_book(\"The Divine Comedy\", 5)\n",
    "test_object.add_book(\"The Popol Vuh\", 5)"
   ]
  },
  {
   "cell_type": "code",
   "execution_count": 13,
   "id": "927bfe06-8e95-46eb-b224-bb7973cd6a96",
   "metadata": {
    "tags": []
   },
   "outputs": [
    {
     "data": {
      "text/html": [
       "<div>\n",
       "<style scoped>\n",
       "    .dataframe tbody tr th:only-of-type {\n",
       "        vertical-align: middle;\n",
       "    }\n",
       "\n",
       "    .dataframe tbody tr th {\n",
       "        vertical-align: top;\n",
       "    }\n",
       "\n",
       "    .dataframe thead th {\n",
       "        text-align: right;\n",
       "    }\n",
       "</style>\n",
       "<table border=\"1\" class=\"dataframe\">\n",
       "  <thead>\n",
       "    <tr style=\"text-align: right;\">\n",
       "      <th></th>\n",
       "      <th>book_name</th>\n",
       "      <th>book_rating</th>\n",
       "    </tr>\n",
       "  </thead>\n",
       "  <tbody>\n",
       "    <tr>\n",
       "      <th>0</th>\n",
       "      <td>War of the Worlds</td>\n",
       "      <td>4.0</td>\n",
       "    </tr>\n",
       "    <tr>\n",
       "      <th>1</th>\n",
       "      <td>Jane Eyre</td>\n",
       "      <td>4.0</td>\n",
       "    </tr>\n",
       "    <tr>\n",
       "      <th>2</th>\n",
       "      <td>Fight Club</td>\n",
       "      <td>3.0</td>\n",
       "    </tr>\n",
       "    <tr>\n",
       "      <th>3</th>\n",
       "      <td>The Divine Comedy</td>\n",
       "      <td>5.0</td>\n",
       "    </tr>\n",
       "    <tr>\n",
       "      <th>4</th>\n",
       "      <td>The Popol Vuh</td>\n",
       "      <td>5.0</td>\n",
       "    </tr>\n",
       "  </tbody>\n",
       "</table>\n",
       "</div>"
      ],
      "text/plain": [
       "           book_name  book_rating\n",
       "0  War of the Worlds          4.0\n",
       "1          Jane Eyre          4.0\n",
       "2         Fight Club          3.0\n",
       "3  The Divine Comedy          5.0\n",
       "4      The Popol Vuh          5.0"
      ]
     },
     "execution_count": 13,
     "metadata": {},
     "output_type": "execute_result"
    }
   ],
   "source": [
    "test_object.book_list"
   ]
  },
  {
   "cell_type": "code",
   "execution_count": 14,
   "id": "19afa0fb-93b8-4549-a477-e5f7d1a846c1",
   "metadata": {
    "tags": []
   },
   "outputs": [
    {
     "data": {
      "text/plain": [
       "5"
      ]
     },
     "execution_count": 14,
     "metadata": {},
     "output_type": "execute_result"
    }
   ],
   "source": [
    "test_object.num_books_read()"
   ]
  },
  {
   "cell_type": "code",
   "execution_count": 15,
   "id": "a8269a54-58d4-4171-980a-9c0bc03ea565",
   "metadata": {
    "tags": []
   },
   "outputs": [
    {
     "data": {
      "text/html": [
       "<div>\n",
       "<style scoped>\n",
       "    .dataframe tbody tr th:only-of-type {\n",
       "        vertical-align: middle;\n",
       "    }\n",
       "\n",
       "    .dataframe tbody tr th {\n",
       "        vertical-align: top;\n",
       "    }\n",
       "\n",
       "    .dataframe thead th {\n",
       "        text-align: right;\n",
       "    }\n",
       "</style>\n",
       "<table border=\"1\" class=\"dataframe\">\n",
       "  <thead>\n",
       "    <tr style=\"text-align: right;\">\n",
       "      <th></th>\n",
       "      <th>book_name</th>\n",
       "      <th>book_rating</th>\n",
       "    </tr>\n",
       "  </thead>\n",
       "  <tbody>\n",
       "    <tr>\n",
       "      <th>0</th>\n",
       "      <td>War of the Worlds</td>\n",
       "      <td>4.0</td>\n",
       "    </tr>\n",
       "    <tr>\n",
       "      <th>1</th>\n",
       "      <td>Jane Eyre</td>\n",
       "      <td>4.0</td>\n",
       "    </tr>\n",
       "    <tr>\n",
       "      <th>3</th>\n",
       "      <td>The Divine Comedy</td>\n",
       "      <td>5.0</td>\n",
       "    </tr>\n",
       "    <tr>\n",
       "      <th>4</th>\n",
       "      <td>The Popol Vuh</td>\n",
       "      <td>5.0</td>\n",
       "    </tr>\n",
       "  </tbody>\n",
       "</table>\n",
       "</div>"
      ],
      "text/plain": [
       "           book_name  book_rating\n",
       "0  War of the Worlds          4.0\n",
       "1          Jane Eyre          4.0\n",
       "3  The Divine Comedy          5.0\n",
       "4      The Popol Vuh          5.0"
      ]
     },
     "execution_count": 15,
     "metadata": {},
     "output_type": "execute_result"
    }
   ],
   "source": [
    "test_object.fav_books()"
   ]
  },
  {
   "cell_type": "code",
   "execution_count": 16,
   "id": "ded00f4a-134e-4403-bc09-bfb86873645b",
   "metadata": {},
   "outputs": [
    {
     "name": "stdout",
     "output_type": "stream",
     "text": [
      "<class 'pandas.core.frame.DataFrame'>\n",
      "RangeIndex: 5 entries, 0 to 4\n",
      "Data columns (total 2 columns):\n",
      " #   Column       Non-Null Count  Dtype  \n",
      "---  ------       --------------  -----  \n",
      " 0   book_name    5 non-null      object \n",
      " 1   book_rating  5 non-null      float64\n",
      "dtypes: float64(1), object(1)\n",
      "memory usage: 212.0+ bytes\n"
     ]
    }
   ],
   "source": [
    "test_object.book_list.info()"
   ]
  },
  {
   "cell_type": "code",
   "execution_count": 17,
   "id": "1fb1c24e-0ace-4612-bc40-ecba7e17727a",
   "metadata": {
    "tags": []
   },
   "outputs": [
    {
     "data": {
      "text/plain": [
       "0    4.0\n",
       "1    4.0\n",
       "2    3.0\n",
       "3    5.0\n",
       "4    5.0\n",
       "Name: book_rating, dtype: float64"
      ]
     },
     "execution_count": 17,
     "metadata": {},
     "output_type": "execute_result"
    }
   ],
   "source": [
    "test_object.book_list['book_rating']"
   ]
  },
  {
   "cell_type": "code",
   "execution_count": 18,
   "id": "7085217f-b327-488c-825b-566fa62b9163",
   "metadata": {
    "tags": []
   },
   "outputs": [],
   "source": [
    "mask = test_object.book_list['book_rating'] > 3"
   ]
  },
  {
   "cell_type": "code",
   "execution_count": 19,
   "id": "8db58e7d-ec28-4658-a9d5-adc01fddeb11",
   "metadata": {
    "tags": []
   },
   "outputs": [
    {
     "data": {
      "text/plain": [
       "0     True\n",
       "1     True\n",
       "2    False\n",
       "3     True\n",
       "4     True\n",
       "Name: book_rating, dtype: bool"
      ]
     },
     "execution_count": 19,
     "metadata": {},
     "output_type": "execute_result"
    }
   ],
   "source": [
    "mask"
   ]
  },
  {
   "cell_type": "code",
   "execution_count": 20,
   "id": "9f63f791-b1c9-49ff-8586-7b79fa41d4fd",
   "metadata": {
    "tags": []
   },
   "outputs": [
    {
     "data": {
      "text/plain": [
       "array([4., 4., 5., 5.])"
      ]
     },
     "execution_count": 20,
     "metadata": {},
     "output_type": "execute_result"
    }
   ],
   "source": [
    "test_object.book_list.book_rating[mask].values"
   ]
  },
  {
   "cell_type": "code",
   "execution_count": 21,
   "id": "30d322ec-fc6b-4ff2-b910-7e22b9e13d0a",
   "metadata": {
    "tags": []
   },
   "outputs": [
    {
     "data": {
      "text/html": [
       "<div>\n",
       "<style scoped>\n",
       "    .dataframe tbody tr th:only-of-type {\n",
       "        vertical-align: middle;\n",
       "    }\n",
       "\n",
       "    .dataframe tbody tr th {\n",
       "        vertical-align: top;\n",
       "    }\n",
       "\n",
       "    .dataframe thead th {\n",
       "        text-align: right;\n",
       "    }\n",
       "</style>\n",
       "<table border=\"1\" class=\"dataframe\">\n",
       "  <thead>\n",
       "    <tr style=\"text-align: right;\">\n",
       "      <th></th>\n",
       "      <th>book_name</th>\n",
       "      <th>book_rating</th>\n",
       "    </tr>\n",
       "  </thead>\n",
       "  <tbody>\n",
       "    <tr>\n",
       "      <th>0</th>\n",
       "      <td>War of the Worlds</td>\n",
       "      <td>4.0</td>\n",
       "    </tr>\n",
       "    <tr>\n",
       "      <th>1</th>\n",
       "      <td>Jane Eyre</td>\n",
       "      <td>4.0</td>\n",
       "    </tr>\n",
       "    <tr>\n",
       "      <th>3</th>\n",
       "      <td>The Divine Comedy</td>\n",
       "      <td>5.0</td>\n",
       "    </tr>\n",
       "    <tr>\n",
       "      <th>4</th>\n",
       "      <td>The Popol Vuh</td>\n",
       "      <td>5.0</td>\n",
       "    </tr>\n",
       "  </tbody>\n",
       "</table>\n",
       "</div>"
      ],
      "text/plain": [
       "           book_name  book_rating\n",
       "0  War of the Worlds          4.0\n",
       "1          Jane Eyre          4.0\n",
       "3  The Divine Comedy          5.0\n",
       "4      The Popol Vuh          5.0"
      ]
     },
     "execution_count": 21,
     "metadata": {},
     "output_type": "execute_result"
    }
   ],
   "source": [
    "test_object.book_list[test_object.book_list.book_rating > 3]"
   ]
  },
  {
   "cell_type": "code",
   "execution_count": 22,
   "id": "58f0a274-f079-49a0-b33e-3fed403b13a6",
   "metadata": {},
   "outputs": [
    {
     "data": {
      "text/html": [
       "<div>\n",
       "<style scoped>\n",
       "    .dataframe tbody tr th:only-of-type {\n",
       "        vertical-align: middle;\n",
       "    }\n",
       "\n",
       "    .dataframe tbody tr th {\n",
       "        vertical-align: top;\n",
       "    }\n",
       "\n",
       "    .dataframe thead th {\n",
       "        text-align: right;\n",
       "    }\n",
       "</style>\n",
       "<table border=\"1\" class=\"dataframe\">\n",
       "  <thead>\n",
       "    <tr style=\"text-align: right;\">\n",
       "      <th></th>\n",
       "      <th>book_name</th>\n",
       "      <th>book_rating</th>\n",
       "    </tr>\n",
       "  </thead>\n",
       "  <tbody>\n",
       "    <tr>\n",
       "      <th>0</th>\n",
       "      <td>War of the Worlds</td>\n",
       "      <td>4.0</td>\n",
       "    </tr>\n",
       "    <tr>\n",
       "      <th>1</th>\n",
       "      <td>Jane Eyre</td>\n",
       "      <td>4.0</td>\n",
       "    </tr>\n",
       "    <tr>\n",
       "      <th>2</th>\n",
       "      <td>Fight Club</td>\n",
       "      <td>3.0</td>\n",
       "    </tr>\n",
       "    <tr>\n",
       "      <th>3</th>\n",
       "      <td>The Divine Comedy</td>\n",
       "      <td>5.0</td>\n",
       "    </tr>\n",
       "    <tr>\n",
       "      <th>4</th>\n",
       "      <td>The Popol Vuh</td>\n",
       "      <td>5.0</td>\n",
       "    </tr>\n",
       "  </tbody>\n",
       "</table>\n",
       "</div>"
      ],
      "text/plain": [
       "           book_name  book_rating\n",
       "0  War of the Worlds          4.0\n",
       "1          Jane Eyre          4.0\n",
       "2         Fight Club          3.0\n",
       "3  The Divine Comedy          5.0\n",
       "4      The Popol Vuh          5.0"
      ]
     },
     "execution_count": 22,
     "metadata": {},
     "output_type": "execute_result"
    }
   ],
   "source": [
    "test_object.book_list"
   ]
  },
  {
   "cell_type": "code",
   "execution_count": 23,
   "id": "b678a618-fd13-4eca-aaf6-2fb282260924",
   "metadata": {
    "tags": []
   },
   "outputs": [
    {
     "data": {
      "text/html": [
       "<div>\n",
       "<style scoped>\n",
       "    .dataframe tbody tr th:only-of-type {\n",
       "        vertical-align: middle;\n",
       "    }\n",
       "\n",
       "    .dataframe tbody tr th {\n",
       "        vertical-align: top;\n",
       "    }\n",
       "\n",
       "    .dataframe thead th {\n",
       "        text-align: right;\n",
       "    }\n",
       "</style>\n",
       "<table border=\"1\" class=\"dataframe\">\n",
       "  <thead>\n",
       "    <tr style=\"text-align: right;\">\n",
       "      <th></th>\n",
       "      <th>book_name</th>\n",
       "      <th>book_rating</th>\n",
       "    </tr>\n",
       "  </thead>\n",
       "  <tbody>\n",
       "    <tr>\n",
       "      <th>0</th>\n",
       "      <td>War of the Worlds</td>\n",
       "      <td>4.0</td>\n",
       "    </tr>\n",
       "    <tr>\n",
       "      <th>1</th>\n",
       "      <td>Jane Eyre</td>\n",
       "      <td>4.0</td>\n",
       "    </tr>\n",
       "    <tr>\n",
       "      <th>3</th>\n",
       "      <td>The Divine Comedy</td>\n",
       "      <td>5.0</td>\n",
       "    </tr>\n",
       "    <tr>\n",
       "      <th>4</th>\n",
       "      <td>The Popol Vuh</td>\n",
       "      <td>5.0</td>\n",
       "    </tr>\n",
       "  </tbody>\n",
       "</table>\n",
       "</div>"
      ],
      "text/plain": [
       "           book_name  book_rating\n",
       "0  War of the Worlds          4.0\n",
       "1          Jane Eyre          4.0\n",
       "3  The Divine Comedy          5.0\n",
       "4      The Popol Vuh          5.0"
      ]
     },
     "execution_count": 23,
     "metadata": {},
     "output_type": "execute_result"
    }
   ],
   "source": [
    "test_object.fav_books()"
   ]
  },
  {
   "cell_type": "code",
   "execution_count": null,
   "id": "26db1577-4d8b-4dd9-bc6b-5123793b4c5d",
   "metadata": {},
   "outputs": [],
   "source": []
  }
 ],
 "metadata": {
  "kernelspec": {
   "display_name": "Python 3 (ipykernel)",
   "language": "python",
   "name": "python3"
  },
  "language_info": {
   "codemirror_mode": {
    "name": "ipython",
    "version": 3
   },
   "file_extension": ".py",
   "mimetype": "text/x-python",
   "name": "python",
   "nbconvert_exporter": "python",
   "pygments_lexer": "ipython3",
   "version": "3.11.4"
  }
 },
 "nbformat": 4,
 "nbformat_minor": 5
}
