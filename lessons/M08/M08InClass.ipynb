{
 "cells": [
  {
   "cell_type": "code",
   "execution_count": 4,
   "id": "85c5b4ce-522d-4e0d-a0c3-eb822438ffe6",
   "metadata": {
    "tags": []
   },
   "outputs": [
    {
     "name": "stdout",
     "output_type": "stream",
     "text": [
      "Caught an exception! Error message: division by zero\n"
     ]
    }
   ],
   "source": [
    "x = 6\n",
    "y = 0\n",
    "\n",
    "try:\n",
    "    z = x / y\n",
    "    print('z is: ', z)\n",
    "except ZeroDivisionError as e:\n",
    "    print('Caught an exception! Error message:', e)"
   ]
  },
  {
   "cell_type": "code",
   "execution_count": 5,
   "id": "b1c9047d-1a3a-44f7-987e-8a0810ab3ed4",
   "metadata": {
    "tags": []
   },
   "outputs": [
    {
     "name": "stdout",
     "output_type": "stream",
     "text": [
      "z is:  0.8571428571428571\n"
     ]
    }
   ],
   "source": [
    "y = 7\n",
    "try:\n",
    "    z = x / y\n",
    "    print('z is: ', z)\n",
    "except ZeroDivisionError as e:\n",
    "    print('Caught an exception! Error message:', e)"
   ]
  },
  {
   "cell_type": "code",
   "execution_count": 8,
   "id": "2656f8a2-4b73-4096-8fa8-4acbbdc400fb",
   "metadata": {},
   "outputs": [
    {
     "ename": "AssertionError",
     "evalue": "These are not equal",
     "output_type": "error",
     "traceback": [
      "\u001b[0;31m---------------------------------------------------------------------------\u001b[0m",
      "\u001b[0;31mAssertionError\u001b[0m                            Traceback (most recent call last)",
      "Cell \u001b[0;32mIn[8], line 4\u001b[0m\n\u001b[1;32m      2\u001b[0m \u001b[38;5;28;01massert\u001b[39;00m var1, \u001b[38;5;124m\"\u001b[39m\u001b[38;5;124mThese are not equal\u001b[39m\u001b[38;5;124m\"\u001b[39m\n\u001b[1;32m      3\u001b[0m var2 \u001b[38;5;241m=\u001b[39m \u001b[38;5;241m5\u001b[39m \u001b[38;5;241m==\u001b[39m \u001b[38;5;241m6\u001b[39m\n\u001b[0;32m----> 4\u001b[0m \u001b[38;5;28;01massert\u001b[39;00m var2, \u001b[38;5;124m\"\u001b[39m\u001b[38;5;124mThese are not equal\u001b[39m\u001b[38;5;124m\"\u001b[39m\n",
      "\u001b[0;31mAssertionError\u001b[0m: These are not equal"
     ]
    }
   ],
   "source": [
    "var1 = 3 == 3\n",
    "assert var1, \"These are not equal\"\n",
    "var2 = 5 == 6\n",
    "assert var2, \"These are not equal\""
   ]
  },
  {
   "cell_type": "code",
   "execution_count": 16,
   "id": "b366ad1b-ac68-44b1-bc8a-7a0fb2f261a6",
   "metadata": {
    "tags": []
   },
   "outputs": [],
   "source": [
    "import math \n",
    "def area(r):\n",
    "    '''Calculate area of circle based on radius'''\n",
    "    area_cir = math.pi * (r ** 2)\n",
    "    print(area_cir)"
   ]
  },
  {
   "cell_type": "code",
   "execution_count": 19,
   "id": "ab42fb6f-febe-40eb-a33d-dbbc98888d0a",
   "metadata": {},
   "outputs": [
    {
     "name": "stdout",
     "output_type": "stream",
     "text": [
      "3.141592653589793\n"
     ]
    },
    {
     "ename": "AssertionError",
     "evalue": "Test 1 failed",
     "output_type": "error",
     "traceback": [
      "\u001b[0;31m---------------------------------------------------------------------------\u001b[0m",
      "\u001b[0;31mAssertionError\u001b[0m                            Traceback (most recent call last)",
      "Cell \u001b[0;32mIn[19], line 1\u001b[0m\n\u001b[0;32m----> 1\u001b[0m \u001b[38;5;28;01massert\u001b[39;00m \u001b[38;5;28misinstance\u001b[39m(area(\u001b[38;5;241m1\u001b[39m), \u001b[38;5;28mfloat\u001b[39m), \u001b[38;5;124m'\u001b[39m\u001b[38;5;124mTest 1 failed\u001b[39m\u001b[38;5;124m'\u001b[39m\n",
      "\u001b[0;31mAssertionError\u001b[0m: Test 1 failed"
     ]
    }
   ],
   "source": [
    "assert isinstance(area(1), float), 'Test 1 failed'"
   ]
  },
  {
   "cell_type": "code",
   "execution_count": 20,
   "id": "59a7bad8-b4a7-4095-a2f6-434595e6f4d6",
   "metadata": {
    "tags": []
   },
   "outputs": [
    {
     "name": "stdout",
     "output_type": "stream",
     "text": [
      "0.0\n"
     ]
    },
    {
     "ename": "AssertionError",
     "evalue": "Test 2 failed",
     "output_type": "error",
     "traceback": [
      "\u001b[0;31m---------------------------------------------------------------------------\u001b[0m",
      "\u001b[0;31mAssertionError\u001b[0m                            Traceback (most recent call last)",
      "Cell \u001b[0;32mIn[20], line 1\u001b[0m\n\u001b[0;32m----> 1\u001b[0m \u001b[38;5;28;01massert\u001b[39;00m area(\u001b[38;5;241m0\u001b[39m) \u001b[38;5;241m==\u001b[39m \u001b[38;5;241m0\u001b[39m, \u001b[38;5;124m'\u001b[39m\u001b[38;5;124mTest 2 failed\u001b[39m\u001b[38;5;124m'\u001b[39m\n",
      "\u001b[0;31mAssertionError\u001b[0m: Test 2 failed"
     ]
    }
   ],
   "source": [
    "assert area(0) == 0, 'Test 2 failed'"
   ]
  },
  {
   "cell_type": "code",
   "execution_count": 22,
   "id": "ea37048a-7445-4ec0-88b9-3bd5ca1c6ffa",
   "metadata": {
    "tags": []
   },
   "outputs": [
    {
     "name": "stdout",
     "output_type": "stream",
     "text": [
      "78.53981633974483\n"
     ]
    },
    {
     "ename": "TypeError",
     "evalue": "must be real number, not NoneType",
     "output_type": "error",
     "traceback": [
      "\u001b[0;31m---------------------------------------------------------------------------\u001b[0m",
      "\u001b[0;31mTypeError\u001b[0m                                 Traceback (most recent call last)",
      "Cell \u001b[0;32mIn[22], line 1\u001b[0m\n\u001b[0;32m----> 1\u001b[0m \u001b[38;5;28;01massert\u001b[39;00m \u001b[43mmath\u001b[49m\u001b[38;5;241;43m.\u001b[39;49m\u001b[43misclose\u001b[49m\u001b[43m(\u001b[49m\u001b[43marea\u001b[49m\u001b[43m(\u001b[49m\u001b[38;5;241;43m5\u001b[39;49m\u001b[43m)\u001b[49m\u001b[43m,\u001b[49m\u001b[43m \u001b[49m\u001b[38;5;241;43m78.5\u001b[39;49m\u001b[43m,\u001b[49m\u001b[43m \u001b[49m\u001b[43mabs_tol\u001b[49m\u001b[43m \u001b[49m\u001b[38;5;241;43m=\u001b[39;49m\u001b[43m \u001b[49m\u001b[38;5;241;43m0.1\u001b[39;49m\u001b[43m)\u001b[49m, \u001b[38;5;124m'\u001b[39m\u001b[38;5;124mTest 3 failed\u001b[39m\u001b[38;5;124m'\u001b[39m\n",
      "\u001b[0;31mTypeError\u001b[0m: must be real number, not NoneType"
     ]
    }
   ],
   "source": [
    "assert math.isclose(area(5), 78.5, abs_tol = 0.1), 'Test 3 failed'"
   ]
  },
  {
   "cell_type": "code",
   "execution_count": null,
   "id": "5ff39770-0a06-466b-b57e-b26eeadff477",
   "metadata": {},
   "outputs": [],
   "source": []
  }
 ],
 "metadata": {
  "kernelspec": {
   "display_name": "Python 3 (ipykernel)",
   "language": "python",
   "name": "python3"
  },
  "language_info": {
   "codemirror_mode": {
    "name": "ipython",
    "version": 3
   },
   "file_extension": ".py",
   "mimetype": "text/x-python",
   "name": "python",
   "nbconvert_exporter": "python",
   "pygments_lexer": "ipython3",
   "version": "3.11.4"
  }
 },
 "nbformat": 4,
 "nbformat_minor": 5
}
