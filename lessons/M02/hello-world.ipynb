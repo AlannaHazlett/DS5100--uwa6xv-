{
 "cells": [
  {
   "cell_type": "code",
   "execution_count": 1,
   "id": "d59b1de9-a094-4f52-92d1-b7c6940022ae",
   "metadata": {
    "tags": []
   },
   "outputs": [
    {
     "name": "stdout",
     "output_type": "stream",
     "text": [
      "Hello, World!\n"
     ]
    }
   ],
   "source": [
    "print(\"Hello, World!\")"
   ]
  },
  {
   "cell_type": "code",
   "execution_count": 2,
   "id": "167fb919-4777-45a0-a031-ebb32f9fdc60",
   "metadata": {},
   "outputs": [
    {
     "name": "stdout",
     "output_type": "stream",
     "text": [
      "Thi\n"
     ]
    }
   ],
   "source": [
    "string = (\"This is a string\")\n",
    "print(string[0:3])"
   ]
  },
  {
   "cell_type": "code",
   "execution_count": 7,
   "id": "b2187417-c127-4463-acaf-5d046b8784df",
   "metadata": {
    "tags": []
   },
   "outputs": [
    {
     "name": "stdout",
     "output_type": "stream",
     "text": [
      "ing\n"
     ]
    }
   ],
   "source": [
    "print(string[-3:])"
   ]
  },
  {
   "cell_type": "code",
   "execution_count": 8,
   "id": "8d1c2d97-701f-4baa-8292-a2fb8b627c15",
   "metadata": {
    "tags": []
   },
   "outputs": [
    {
     "name": "stdout",
     "output_type": "stream",
     "text": [
      "(0, 1, 2)\n"
     ]
    }
   ],
   "source": [
    "my_list=(0, 1, 2)\n",
    "print(my_list)"
   ]
  },
  {
   "cell_type": "code",
   "execution_count": 9,
   "id": "f8068c0c-4927-4937-9faf-76fff06d2f6f",
   "metadata": {
    "tags": []
   },
   "outputs": [
    {
     "name": "stdout",
     "output_type": "stream",
     "text": [
      "1\n"
     ]
    }
   ],
   "source": [
    "print(my_list[1])"
   ]
  },
  {
   "cell_type": "code",
   "execution_count": 11,
   "id": "badca555-641f-4351-8364-3b6ffbcb48ed",
   "metadata": {
    "tags": []
   },
   "outputs": [
    {
     "name": "stdout",
     "output_type": "stream",
     "text": [
      "second\n"
     ]
    }
   ],
   "source": [
    "mylist2 = []\n",
    "mylist2 += ['first']\n",
    "mylist2 += ['second', 'third']\n",
    "print(mylist2[1])"
   ]
  },
  {
   "cell_type": "code",
   "execution_count": 12,
   "id": "2481167f-61a7-4b8e-8f22-ee13039d9edc",
   "metadata": {
    "tags": []
   },
   "outputs": [],
   "source": [
    "mylist3 = []\n",
    "mylist3.append('first')\n",
    "mylist3.append('second')\n",
    "mylist3.append('third')\n"
   ]
  },
  {
   "cell_type": "code",
   "execution_count": 14,
   "id": "2f74d8f2-2f49-4ad4-b1bd-2fac1b0d01e4",
   "metadata": {
    "tags": []
   },
   "outputs": [
    {
     "ename": "NameError",
     "evalue": "name 'A' is not defined",
     "output_type": "error",
     "traceback": [
      "\u001b[0;31m---------------------------------------------------------------------------\u001b[0m",
      "\u001b[0;31mNameError\u001b[0m                                 Traceback (most recent call last)",
      "Cell \u001b[0;32mIn[14], line 1\u001b[0m\n\u001b[0;32m----> 1\u001b[0m my_tuple \u001b[38;5;241m=\u001b[39m (\u001b[43mA\u001b[49m, B, C)\n\u001b[1;32m      2\u001b[0m my_tupple\u001b[38;5;241m.\u001b[39mappend(D)\n",
      "\u001b[0;31mNameError\u001b[0m: name 'A' is not defined"
     ]
    }
   ],
   "source": [
    "my_tuple = (A, B, C)\n",
    "my_tuple.append(D)"
   ]
  },
  {
   "cell_type": "code",
   "execution_count": 15,
   "id": "55d4f137-4610-4995-82b7-6a6efdbc73fe",
   "metadata": {
    "tags": []
   },
   "outputs": [
    {
     "data": {
      "text/plain": [
       "True"
      ]
     },
     "execution_count": 15,
     "metadata": {},
     "output_type": "execute_result"
    }
   ],
   "source": [
    "val = 'Error'\n",
    "levels = {'warn', 'Error','Critical'}\n",
    "val in levels"
   ]
  },
  {
   "cell_type": "code",
   "execution_count": null,
   "id": "941844f5-703d-4448-b664-f5b1f66cb508",
   "metadata": {},
   "outputs": [],
   "source": [
    "# sets only save distinct values "
   ]
  }
 ],
 "metadata": {
  "kernelspec": {
   "display_name": "Python 3 (ipykernel)",
   "language": "python",
   "name": "python3"
  },
  "language_info": {
   "codemirror_mode": {
    "name": "ipython",
    "version": 3
   },
   "file_extension": ".py",
   "mimetype": "text/x-python",
   "name": "python",
   "nbconvert_exporter": "python",
   "pygments_lexer": "ipython3",
   "version": "3.11.4"
  }
 },
 "nbformat": 4,
 "nbformat_minor": 5
}
